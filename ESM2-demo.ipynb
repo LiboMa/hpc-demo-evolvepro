{
 "cells": [
  {
   "cell_type": "markdown",
   "metadata": {
    "id": "z7U8tcMUo7ah"
   },
   "source": [
    "## Setup:"
   ]
  },
  {
   "cell_type": "code",
   "execution_count": 178,
   "metadata": {
    "colab": {
     "base_uri": "https://localhost:8080/"
    },
    "id": "eY0TYzM70-cE",
    "outputId": "d9a31d1b-d0b5-4be9-dbd4-325469023861"
   },
   "outputs": [
    {
     "name": "stdout",
     "output_type": "stream",
     "text": [
      "/shared/EvolvePro\n"
     ]
    }
   ],
   "source": [
    "%cd /shared/EvolvePro/"
   ]
  },
  {
   "cell_type": "code",
   "execution_count": 179,
   "metadata": {
    "id": "Nxum_v_ieBlO"
   },
   "outputs": [],
   "source": [
    "%%capture\n",
    "\n",
    "!pip install pandas numpy scikit-learn scikit-learn-extra xgboost matplotlib seaborn biopython scipy torch fair-esm\n",
    "!mkdir -p /shared/content/output\n",
    "\n",
    "% conda activate evolvepro"
   ]
  },
  {
   "cell_type": "markdown",
   "metadata": {
    "id": "MPYtN9W5o-UD"
   },
   "source": [
    "## Process"
   ]
  },
  {
   "cell_type": "code",
   "execution_count": 180,
   "metadata": {
    "colab": {
     "base_uri": "https://localhost:8080/"
    },
    "id": "xZVqxVCXftSE",
    "outputId": "89d68d99-370c-45db-b593-c36b8f31e945"
   },
   "outputs": [
    {
     "name": "stdout",
     "output_type": "stream",
     "text": [
      "Number of mutants: 2433\n"
     ]
    }
   ],
   "source": [
    "from evolvepro.src.process import generate_wt, generate_single_aa_mutants\n",
    "generate_wt('EVQLVESGGGLVQPGGSLRLSCAASGRTLSSYAMGWFRQAPGKEREFVAAIRWSGNTLYYADSVKGRFTISGDNAKNTVYLQMNSLRAEDTAVYYCAARTRAYDGCPSYTAGPCYHYWGQGTMVTVSS', output_file='/shared/content/output/r200_WT.fasta')\n",
    "generate_single_aa_mutants('/shared/content/output/r200_WT.fasta', output_file='/shared/content/output/r200.fasta')"
   ]
  },
  {
   "cell_type": "code",
   "execution_count": 181,
   "metadata": {
    "colab": {
     "base_uri": "https://localhost:8080/"
    },
    "id": "hhtBO0g2gu2R",
    "outputId": "587b3178-3d78-4e2f-fd69-d27658313851"
   },
   "outputs": [
    {
     "name": "stdout",
     "output_type": "stream",
     "text": [
      "\n",
      "Suggested 11 mutants for testing:\n",
      "1. A24C\n",
      "2. G112P\n",
      "3. A33E\n",
      "4. Y59C\n",
      "5. G112C\n",
      "6. D104S\n",
      "7. N77W\n",
      "8. T57G\n",
      "9. P14E\n",
      "10. M123C\n",
      "11. R19I\n"
     ]
    }
   ],
   "source": [
    "from evolvepro.src.process import suggest_initial_mutants\n",
    "suggest_initial_mutants('/shared/content/output/r200.fasta', num_mutants=11, random_seed=42)"
   ]
  },
  {
   "cell_type": "code",
   "execution_count": 182,
   "metadata": {
    "scrolled": true
   },
   "outputs": [
    {
     "name": "stderr",
     "output_type": "stream",
     "text": [
      "[E::stk_subseq] failed to read the list of regions in file '/shared/content/output/r200.list'\n"
     ]
    },
    {
     "ename": "CalledProcessError",
     "evalue": "Command 'b'# sudo apt-get install seqtk -y\\nmv /shared/content/output/r200.fasta /shared/content/output/r200.fasta_bk\\nseqtk subseq /shared/content/output/r200.fasta_bk /shared/content/output/r200.list > /shared/content/output/r200.fasta\\n'' returned non-zero exit status 1.",
     "output_type": "error",
     "traceback": [
      "\u001b[31m---------------------------------------------------------------------------\u001b[39m",
      "\u001b[31mCalledProcessError\u001b[39m                        Traceback (most recent call last)",
      "\u001b[36mCell\u001b[39m\u001b[36m \u001b[39m\u001b[32mIn[182]\u001b[39m\u001b[32m, line 1\u001b[39m\n\u001b[32m----> \u001b[39m\u001b[32m1\u001b[39m get_ipython().run_cell_magic(\u001b[33m'\u001b[39m\u001b[33mbash\u001b[39m\u001b[33m'\u001b[39m, \u001b[33m'\u001b[39m\u001b[33m'\u001b[39m, \u001b[33m'\u001b[39m\u001b[33m# sudo apt-get install seqtk -y\u001b[39m\u001b[38;5;130;01m\\n\u001b[39;00m\u001b[33mmv /shared/content/output/r200.fasta /shared/content/output/r200.fasta_bk\u001b[39m\u001b[38;5;130;01m\\n\u001b[39;00m\u001b[33mseqtk subseq /shared/content/output/r200.fasta_bk /shared/content/output/r200.list > /shared/content/output/r200.fasta\u001b[39m\u001b[38;5;130;01m\\n\u001b[39;00m\u001b[33m'\u001b[39m)\n",
      "\u001b[36mFile \u001b[39m\u001b[32m~/anaconda3/envs/evolvepro/lib/python3.11/site-packages/IPython/core/interactiveshell.py:2547\u001b[39m, in \u001b[36mInteractiveShell.run_cell_magic\u001b[39m\u001b[34m(self, magic_name, line, cell)\u001b[39m\n\u001b[32m   2545\u001b[39m \u001b[38;5;28;01mwith\u001b[39;00m \u001b[38;5;28mself\u001b[39m.builtin_trap:\n\u001b[32m   2546\u001b[39m     args = (magic_arg_s, cell)\n\u001b[32m-> \u001b[39m\u001b[32m2547\u001b[39m     result = fn(*args, **kwargs)\n\u001b[32m   2549\u001b[39m \u001b[38;5;66;03m# The code below prevents the output from being displayed\u001b[39;00m\n\u001b[32m   2550\u001b[39m \u001b[38;5;66;03m# when using magics with decorator @output_can_be_silenced\u001b[39;00m\n\u001b[32m   2551\u001b[39m \u001b[38;5;66;03m# when the last Python token in the expression is a ';'.\u001b[39;00m\n\u001b[32m   2552\u001b[39m \u001b[38;5;28;01mif\u001b[39;00m \u001b[38;5;28mgetattr\u001b[39m(fn, magic.MAGIC_OUTPUT_CAN_BE_SILENCED, \u001b[38;5;28;01mFalse\u001b[39;00m):\n",
      "\u001b[36mFile \u001b[39m\u001b[32m~/anaconda3/envs/evolvepro/lib/python3.11/site-packages/IPython/core/magics/script.py:159\u001b[39m, in \u001b[36mScriptMagics._make_script_magic.<locals>.named_script_magic\u001b[39m\u001b[34m(line, cell)\u001b[39m\n\u001b[32m    157\u001b[39m \u001b[38;5;28;01melse\u001b[39;00m:\n\u001b[32m    158\u001b[39m     line = script\n\u001b[32m--> \u001b[39m\u001b[32m159\u001b[39m \u001b[38;5;28;01mreturn\u001b[39;00m \u001b[38;5;28mself\u001b[39m.shebang(line, cell)\n",
      "\u001b[36mFile \u001b[39m\u001b[32m~/anaconda3/envs/evolvepro/lib/python3.11/site-packages/IPython/core/magics/script.py:336\u001b[39m, in \u001b[36mScriptMagics.shebang\u001b[39m\u001b[34m(self, line, cell)\u001b[39m\n\u001b[32m    331\u001b[39m \u001b[38;5;28;01mif\u001b[39;00m args.raise_error \u001b[38;5;129;01mand\u001b[39;00m p.returncode != \u001b[32m0\u001b[39m:\n\u001b[32m    332\u001b[39m     \u001b[38;5;66;03m# If we get here and p.returncode is still None, we must have\u001b[39;00m\n\u001b[32m    333\u001b[39m     \u001b[38;5;66;03m# killed it but not yet seen its return code. We don't wait for it,\u001b[39;00m\n\u001b[32m    334\u001b[39m     \u001b[38;5;66;03m# in case it's stuck in uninterruptible sleep. -9 = SIGKILL\u001b[39;00m\n\u001b[32m    335\u001b[39m     rc = p.returncode \u001b[38;5;129;01mor\u001b[39;00m -\u001b[32m9\u001b[39m\n\u001b[32m--> \u001b[39m\u001b[32m336\u001b[39m     \u001b[38;5;28;01mraise\u001b[39;00m CalledProcessError(rc, cell)\n",
      "\u001b[31mCalledProcessError\u001b[39m: Command 'b'# sudo apt-get install seqtk -y\\nmv /shared/content/output/r200.fasta /shared/content/output/r200.fasta_bk\\nseqtk subseq /shared/content/output/r200.fasta_bk /shared/content/output/r200.list > /shared/content/output/r200.fasta\\n'' returned non-zero exit status 1."
     ]
    }
   ],
   "source": [
    "%%bash\n",
    "# sudo apt-get install seqtk -y\n",
    "mv /shared/content/output/r200.fasta /shared/content/output/r200.fasta_bk\n",
    "seqtk subseq /shared/content/output/r200.fasta_bk /shared/content/output/r200.list > /shared/content/output/r200.fasta"
   ]
  },
  {
   "cell_type": "markdown",
   "metadata": {
    "id": "eXNaQq1IpBBV"
   },
   "source": [
    "## PLM"
   ]
  },
  {
   "cell_type": "code",
   "execution_count": null,
   "metadata": {},
   "outputs": [],
   "source": [
    "#基于sbatch提交任务\n",
    "!sinfo"
   ]
  },
  {
   "cell_type": "code",
   "execution_count": null,
   "metadata": {},
   "outputs": [],
   "source": [
    "%%bash\n",
    "# sbatch -p defaultgpu -N 1 <<EOF\n",
    "# sbatch -p gpu-queue-high -N 1 <<EOF\n",
    "sbatch -p gpu-queue-high-p5 -N 1 <<EOF\n",
    "#!/bin/bash\n",
    "#SBATCH --job-name=esm\n",
    "#SBATCH --cpus-per-task=8\n",
    "#SBATCH --mem=200gb\n",
    "#SBATCH --output=/shared/content/output/%j_stdout.log\n",
    "#SBATCH --error=/shared/content/output/%j_error.log\n",
    "\n",
    "#source ~/.bashrc\n",
    "# source /home/ubuntu/anaconda3/etc/profile.d/conda.sh\n",
    "# conda activate evolvepro\n",
    "\n",
    "# 设置多线程环境变量\n",
    "export OMP_NUM_THREADS=8\n",
    "export MKL_NUM_THREADS=8\n",
    "export NUMBA_NUM_THREADS=8\n",
    "\n",
    "repr_layers=48\n",
    "\n",
    "# remote old data\n",
    "rm -rf /shared/content/output/r200_esm2_t48_15B_UR50D/*\n",
    "\n",
    "conda run -n evolvepro python /shared/EvolvePro/evolvepro/plm/esm/extract.py \\\n",
    "    esm2_t48_15B_UR50D /shared/content/output/r200.fasta \\\n",
    "    /shared/content/output/r200_esm2_t48_15B_UR50D \\\n",
    "    --toks_per_batch 128 --include mean \\\n",
    "    --concatenate_dir /shared/content/output\n",
    "EOF\n",
    "\n",
    "# conda run -n plm python /shared/EvolvePro/evolvepro/plm/esm/extract.py \\\n",
    "#     esm2_t36_3B_UR50D /shared/content/output/r200.fasta \\\n",
    "#     /shared/content/output/esm2_t36_3B_UR50D \\\n",
    "#     --toks_per_batch 64 --include mean \\\n",
    "#     --concatenate_dir /shared/content/output\n",
    "# EOF"
   ]
  },
  {
   "cell_type": "code",
   "execution_count": null,
   "metadata": {},
   "outputs": [],
   "source": [
    "#任务查看 - It takes around [5 - 6] mins "
   ]
  },
  {
   "cell_type": "code",
   "execution_count": null,
   "metadata": {},
   "outputs": [],
   "source": [
    "!squeue\n",
    "!squeue --noheader --format=\"%i\" --name=esm"
   ]
  },
  {
   "cell_type": "code",
   "execution_count": null,
   "metadata": {},
   "outputs": [],
   "source": [
    "%%bash\n",
    "export ESM_JOB=$(squeue --noheader --format=\"%i\" --name=esm)\n",
    "echo $ESM_JOB > /tmp/esm_job_id.txt\n",
    "squeue\n",
    "scontrol show job $ESM_JOB\n",
    "echo $ESM_JOB\n"
   ]
  },
  {
   "cell_type": "code",
   "execution_count": null,
   "metadata": {},
   "outputs": [],
   "source": [
    "## 检查队列，一直等到JOB 运行完毕，即 -- 没有JOB,跑在P5单卡[NVIDIA H100]机器上，大概需5分钟\n",
    "!squeue\n",
    "!squeue --noheader --format=\"%i\" --name=esm"
   ]
  },
  {
   "cell_type": "code",
   "execution_count": null,
   "metadata": {},
   "outputs": [],
   "source": [
    "%%bash\n",
    "\n",
    "export ESM_JOB=$(cat /tmp/esm_job_id.txt)\n",
    "echo ${ESM_JOB}"
   ]
  },
  {
   "cell_type": "code",
   "execution_count": null,
   "metadata": {},
   "outputs": [],
   "source": [
    "%%bash\n",
    "\n",
    "ESM_JOB=$(cat /tmp/esm_job_id.txt)\n",
    "echo ${ESM_JOB}\n",
    "echo \"stdio log ---->:\"\n",
    "cat /shared/content/output/${ESM_JOB}_stdout.log\n",
    "echo \"\"\n",
    "echo \"error log ---->:\"\n",
    "cat /shared/content/output/${ESM_JOB}_error.log"
   ]
  },
  {
   "cell_type": "markdown",
   "metadata": {
    "id": "5cYm9CwunCUr"
   },
   "source": [
    "## Run EVOLVEpro"
   ]
  },
  {
   "cell_type": "code",
   "execution_count": null,
   "metadata": {},
   "outputs": [],
   "source": [
    "%%bash\n",
    "cat > /shared/content/run.py << 'EOF'\n",
    "from evolvepro.src.evolve import evolve_experimental\n",
    "\n",
    "protein_name = 'r200'\n",
    "embeddings_base_path = '/shared/content/output'\n",
    "embeddings_file_name = 'r200_esm2_t48_15B_UR50D.csv'\n",
    "# embeddings_file_name = 'c143_esm2_t36_3B_UR50D.csv'\n",
    "\n",
    "round_base_path = '/shared/EvolvePro/colab/rounds_data'\n",
    "wt_fasta_path = \"/shared/content/output/r200_WT.fasta\"\n",
    "number_of_variants = 11\n",
    "output_dir = '/shared/content/output/'\n",
    "rename_WT = False\n",
    "\n",
    "round_name = 'Round1'\n",
    "round_file_names = ['r200_Round1.xlsx']\n",
    "\n",
    "this_round_variants, df_test, df_sorted_all = evolve_experimental(\n",
    "    protein_name,\n",
    "    round_name,\n",
    "    embeddings_base_path,\n",
    "    embeddings_file_name,\n",
    "    round_base_path,\n",
    "    round_file_names,\n",
    "    wt_fasta_path,\n",
    "    rename_WT,\n",
    "    number_of_variants,\n",
    "    output_dir\n",
    ")\n",
    "\n",
    "round_name = 'Round2'\n",
    "round_file_names = ['c143_Round1.xlsx', 'c143_Round2.xlsx']\n",
    "\n",
    "this_round_variants, df_test, df_sorted_all = evolve_experimental(\n",
    "    protein_name,\n",
    "    round_name,\n",
    "    embeddings_base_path,\n",
    "    embeddings_file_name,\n",
    "    round_base_path,\n",
    "    round_file_names,\n",
    "    wt_fasta_path,\n",
    "    rename_WT,\n",
    "    number_of_variants,\n",
    "    output_dir\n",
    ")\n",
    "\n",
    "round_name = 'Round3'\n",
    "round_file_names = ['c143_Round1.xlsx', 'c143_Round2.xlsx', 'c143_Round3.xlsx']\n",
    "\n",
    "this_round_variants, df_test, df_sorted_all = evolve_experimental(\n",
    "    protein_name,\n",
    "    round_name,\n",
    "    embeddings_base_path,\n",
    "    embeddings_file_name,\n",
    "    round_base_path,\n",
    "    round_file_names,\n",
    "    wt_fasta_path,\n",
    "    rename_WT,\n",
    "    number_of_variants,\n",
    "    output_dir\n",
    ")\n",
    "\n",
    "\n",
    "round_name = 'Round4'\n",
    "round_file_names = ['c143_Round1.xlsx', 'c143_Round2.xlsx', 'c143_Round3.xlsx', 'c143_Round4.xlsx']\n",
    "\n",
    "this_round_variants, df_test, df_sorted_all = evolve_experimental(\n",
    "    protein_name,\n",
    "    round_name,\n",
    "    embeddings_base_path,\n",
    "    embeddings_file_name,\n",
    "    round_base_path,\n",
    "    round_file_names,\n",
    "    wt_fasta_path,\n",
    "    rename_WT,\n",
    "    number_of_variants,\n",
    "    output_dir\n",
    ")\n",
    "\n",
    "EOF"
   ]
  },
  {
   "cell_type": "code",
   "execution_count": null,
   "metadata": {},
   "outputs": [],
   "source": [
    "%%bash\n",
    "cat > /shared/content/run.sh << 'EOF'\n",
    "#!/bin/bash\n",
    "#SBATCH --job-name=esm-plm\n",
    "##SBATCH --gres=gpu:a100:1\n",
    "#SBATCH --cpus-per-task=8\n",
    "#SBATCH --mem=200gb\n",
    "#SBATCH --output=/shared/content/output/%j_stdout.log\n",
    "#SBATCH --error=/shared/content/output/%j_error.log\n",
    "\n",
    "source /home/ubuntu/anaconda3/etc/profile.d/conda.sh\n",
    "conda activate evolvepro\n",
    "\n",
    "export PYTHONPATH=\"/shared/EvolvePro:$PYTHONPATH\"\n",
    "\n",
    "# 设置多线程环境变量\n",
    "export OMP_NUM_THREADS=8\n",
    "export MKL_NUM_THREADS=8\n",
    "export NUMBA_NUM_THREADS=8\n",
    "python /shared/content/run.py\n",
    "EOF"
   ]
  },
  {
   "cell_type": "code",
   "execution_count": null,
   "metadata": {},
   "outputs": [],
   "source": [
    "!sbatch -p gpu-queue-high-p5 -N 1 /shared/content/run.sh"
   ]
  },
  {
   "cell_type": "code",
   "execution_count": null,
   "metadata": {},
   "outputs": [],
   "source": [
    "!squeue -a"
   ]
  },
  {
   "cell_type": "markdown",
   "metadata": {
    "id": "g0YzCWOL1xdF"
   },
   "source": [
    "## Plot"
   ]
  },
  {
   "cell_type": "code",
   "execution_count": null,
   "metadata": {
    "id": "46D0aZra2ffS"
   },
   "outputs": [],
   "source": [
    "from evolvepro.src.plot import read_exp_data, plot_variants_by_iteration\n",
    "protein_name = 'c143'\n",
    "embeddings_base_path = '/shared/content/output'\n",
    "embeddings_file_name = 'c143_esm2_t48_15B_UR50D.csv'\n",
    "# embeddings_file_name = 'c143_esm2_t36_3B_UR50D.csv'\n",
    "number_of_variants = 11\n",
    "output_dir = '/shared/content/output/'\n",
    "rename_WT = False\n",
    "\n",
    "round_base_path = '/shared/EvolvePro/colab/rounds_data'\n",
    "round_file_names = ['c143_Round1.xlsx', 'c143_Round2.xlsx', 'c143_Round3.xlsx', 'c143_Round4.xlsx']\n",
    "wt_fasta_path = \"/shared/content/output/c143_WT.fasta\""
   ]
  },
  {
   "cell_type": "code",
   "execution_count": null,
   "metadata": {
    "colab": {
     "base_uri": "https://localhost:8080/",
     "height": 607
    },
    "id": "KyYpI7pr2a1i",
    "outputId": "e66ff38a-0460-49f3-fb19-fa372c14b465"
   },
   "outputs": [],
   "source": [
    "df = read_exp_data(round_base_path, round_file_names, wt_fasta_path)\n",
    "plot_variants_by_iteration(df, activity_column='activity', output_dir=output_dir, output_file=\"c143\")"
   ]
  },
  {
   "cell_type": "code",
   "execution_count": null,
   "metadata": {},
   "outputs": [],
   "source": [
    "!cat /shared/EvolvePro/*_stdout.log"
   ]
  },
  {
   "cell_type": "code",
   "execution_count": null,
   "metadata": {},
   "outputs": [],
   "source": [
    "\n",
    "\n",
    "!squeue "
   ]
  },
  {
   "cell_type": "code",
   "execution_count": null,
   "metadata": {},
   "outputs": [],
   "source": []
  }
 ],
 "metadata": {
  "accelerator": "GPU",
  "colab": {
   "gpuType": "T4",
   "provenance": []
  },
  "kernelspec": {
   "display_name": "evolvepro",
   "language": "python",
   "name": "evolvepro"
  },
  "language_info": {
   "codemirror_mode": {
    "name": "ipython",
    "version": 3
   },
   "file_extension": ".py",
   "mimetype": "text/x-python",
   "name": "python",
   "nbconvert_exporter": "python",
   "pygments_lexer": "ipython3",
   "version": "3.11.13"
  }
 },
 "nbformat": 4,
 "nbformat_minor": 4
}
