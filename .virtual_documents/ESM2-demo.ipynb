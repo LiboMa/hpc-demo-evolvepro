


%cd /shared/EvolvePro/


%%capture

!pip install pandas numpy scikit-learn scikit-learn-extra xgboost matplotlib seaborn biopython scipy torch fair-esm
!mkdir -p /shared/content/output


!pip install torch torchvision torchaudio --index-url https://download.pytorch.org/whl/cu124






from evolvepro.src.process import generate_wt, generate_single_aa_mutants
generate_wt('MEVQLVESGGGLVQPGGSLRLSCAASGFSVSTKYMTWVRQAPGKGLEWVSVLYSGGSDYYADSVKGRFTISRDNSKNALYLQMNSLRVEDTGVYYCARDSSEVRDHPGHPGRSVGAFDIWGQGTMVTVSSSTKGPSVFPLAPSSKSTSGGTAALGCLVKDYFPEPVTVSWNSGALTSGVHTFPAVLQSSGLYSLSSVVTVPSSSLGTQTYICNVNHKPSNTKVDKRVEPKSCDKTHTCPPCPAPELLGGPSVFLFPPKPKDTLMISRTPEVTCVVVDVSHEDPEVKFNWYVDGVEVHNAKTKPREEQYNSTYRVVSVLTVLHQDWLNGKEYKCKVSNKALPAPIEKTISKAKGQPREPQVYTLPPSREEMTKNQVSLTCLVKGFYPSDIAVEWESNGQPENNYKTTPPVLDSDGSFFLYSKLTVDKSRWQQGNVFSCSVMHEALHNHYTQKSLSLSPGKMQSALTQPASVSGSPGQSITISCTGTSNDVGSYTLVSWYQQYPGKAPKLLIFEGTKRSSGISNRFSGSKSGNTASLTISGLQGEDEADYYCCSYAGASTFVFGGGTKLTVLGQPKAAPSVTLFPPSSEELQANKATLVCLISDFYPGAVTVAWKADSSPVKAGVETTTPSKQSNNKYAASSYLSLTPEQWKSHRSYSCQVTHEGSTVEKTVAPTECS', output_file='/shared/content/output/c143_WT.fasta')
generate_single_aa_mutants('/shared/content/output/c143_WT.fasta', output_file='/shared/content/output/c143.fasta')


from evolvepro.src.process import suggest_initial_mutants
suggest_initial_mutants('/shared/content/output/c143.fasta', num_mutants=11, random_seed=42)


%%bash
sudo apt-get install seqtk -y
mv /shared/content/output/c143.fasta /shared/content/output/c143.fasta_bk
/usr/bin/seqtk subseq /shared/content/output/c143.fasta_bk /shared/content/output/c143.list > /shared/content/output/c143.fasta





#基于sbatch提交任务


%%bash
# sbatch -p defaultgpu -N 1 <<EOF
sbatch -p gpu-queue-high -N 1 <<EOF  
#!/bin/bash
#SBATCH --job-name=esm
#SBATCH --gres=gpu:a100:2
#SBATCH --cpus-per-task=8
#SBATCH --mem=200gb
#SBATCH --output=%j_stdout.log
#SBATCH --error=%j_error.log

source ~/.bashrc
conda activate evolvepro

# 设置多线程环境变量
export OMP_NUM_THREADS=8
export MKL_NUM_THREADS=8
export NUMBA_NUM_THREADS=8

repr_layers=48

python /shared/EvolvePro/evolvepro/plm/esm/extract.py \
    esm2_t48_15B_UR50D /shared/content/output/c143.fasta \
    /shared/content/output/c143_esm2_t48_15B_UR50D \
    --toks_per_batch 512 --include mean \
    --concatenate_dir /shared/content/output
EOF


#任务查看


!squeue



%%bash
ESM_JOB=$(squeue --noheader --format="%i" --name=esm)
echo $ESM_JOB > /tmp/esm_job_id.txt
squeue
scontrol show job $ESM_JOB


#查看日志


%%bash
ESM_JOB=$(cat /tmp/esm_job_id.txt)
echo "python log ---->:"
cat extract.log

echo "stdio log ---->:"
cat ${ESM_JOB}_stdout.log
echo ""
echo "error log ---->:"
cat ${ESM_JOB}_error.log





%%bash
cat > /shared/content/run.py << 'EOF'
from evolvepro.src.evolve import evolve_experimental

protein_name = 'c143'
embeddings_base_path = '/shared/content/output'
embeddings_file_name = 'c143_esm2_t48_15B_UR50D.csv'
round_base_path = '/shared/EvolvePro/colab/rounds_data'
wt_fasta_path = "/shared/content/output/c143_WT.fasta"
number_of_variants = 11
output_dir = '/shared/content/output/'
rename_WT = False

round_name = 'Round1'
round_file_names = ['c143_Round1.xlsx']

this_round_variants, df_test, df_sorted_all = evolve_experimental(
    protein_name,
    round_name,
    embeddings_base_path,
    embeddings_file_name,
    round_base_path,
    round_file_names,
    wt_fasta_path,
    rename_WT,
    number_of_variants,
    output_dir
)

round_name = 'Round2'
round_file_names = ['c143_Round1.xlsx', 'c143_Round2.xlsx']

this_round_variants, df_test, df_sorted_all = evolve_experimental(
    protein_name,
    round_name,
    embeddings_base_path,
    embeddings_file_name,
    round_base_path,
    round_file_names,
    wt_fasta_path,
    rename_WT,
    number_of_variants,
    output_dir
)

round_name = 'Round3'
round_file_names = ['c143_Round1.xlsx', 'c143_Round2.xlsx', 'c143_Round3.xlsx']

this_round_variants, df_test, df_sorted_all = evolve_experimental(
    protein_name,
    round_name,
    embeddings_base_path,
    embeddings_file_name,
    round_base_path,
    round_file_names,
    wt_fasta_path,
    rename_WT,
    number_of_variants,
    output_dir
)


round_name = 'Round4'
round_file_names = ['c143_Round1.xlsx', 'c143_Round2.xlsx', 'c143_Round3.xlsx', 'c143_Round4.xlsx']

this_round_variants, df_test, df_sorted_all = evolve_experimental(
    protein_name,
    round_name,
    embeddings_base_path,
    embeddings_file_name,
    round_base_path,
    round_file_names,
    wt_fasta_path,
    rename_WT,
    number_of_variants,
    output_dir
)

EOF


%%bash
cat > /shared/content/run.sh << 'EOF'
#!/bin/bash
#SBATCH --job-name=esm-plm
#SBATCH --gres=gpu:a100:1
#SBATCH --cpus-per-task=8
#SBATCH --mem=200gb
#SBATCH --output=%j_stdout.log
#SBATCH --error=%j_error.log

source ~/.bashrc
conda activate evolvepro

export PYTHONPATH="/shared/EvolvePro:$PYTHONPATH"

# 设置多线程环境变量
export OMP_NUM_THREADS=8
export MKL_NUM_THREADS=8
export NUMBA_NUM_THREADS=8
python /shared/content/run.py
EOF





!sbatch -p gpu-queue-high -N 1 /shared/content/run.sh








from evolvepro.src.plot import read_exp_data, plot_variants_by_iteration
protein_name = 'c143'
embeddings_base_path = '/shared/content/output'
embeddings_file_name = 'c143_esm2_t48_15B_UR50D.csv'
number_of_variants = 11
output_dir = '/shared/content/output/'
rename_WT = False

round_base_path = '/shared/EvolvePro/colab/rounds_data'
round_file_names = ['c143_Round1.xlsx', 'c143_Round2.xlsx', 'c143_Round3.xlsx', 'c143_Round4.xlsx']
wt_fasta_path = "/shared/content/output/c143_WT.fasta"


df = read_exp_data(round_base_path, round_file_names, wt_fasta_path)
plot_variants_by_iteration(df, activity_column='activity', output_dir=output_dir, output_file="c143")



!cat /shared/EvolvePro/*_stdout.log



