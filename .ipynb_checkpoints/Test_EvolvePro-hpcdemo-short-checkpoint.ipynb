{
 "cells": [
  {
   "cell_type": "markdown",
   "metadata": {
    "id": "z7U8tcMUo7ah"
   },
   "source": [
    "## 1. Init & Setup"
   ]
  },
  {
   "cell_type": "code",
   "execution_count": 47,
   "metadata": {
    "colab": {
     "base_uri": "https://localhost:8080/"
    },
    "id": "eY0TYzM70-cE",
    "outputId": "d9a31d1b-d0b5-4be9-dbd4-325469023861"
   },
   "outputs": [
    {
     "name": "stdout",
     "output_type": "stream",
     "text": [
      "/shared/EvolvePro\n"
     ]
    }
   ],
   "source": [
    "# !git clone https://github.com/mat10d/EvolvePro.git\n",
    "%cd /shared/EvolvePro/"
   ]
  },
  {
   "cell_type": "code",
   "execution_count": 48,
   "metadata": {
    "id": "Nxum_v_ieBlO"
   },
   "outputs": [],
   "source": [
    "%%capture\n",
    "!pip install pandas numpy scikit-learn scikit-learn-extra xgboost matplotlib seaborn biopython scipy torch fair-esm Bio\n",
    "!mkdir -p /shared/content/output\n",
    "% conda activate evolvepro"
   ]
  },
  {
   "cell_type": "code",
   "execution_count": 49,
   "metadata": {},
   "outputs": [
    {
     "name": "stdout",
     "output_type": "stream",
     "text": [
      "total 47633\n",
      "drwxrwxr-x 7 ubuntu ubuntu    33280 Aug 19 14:53 .\n",
      "drwxrwxr-x 4 ubuntu ubuntu    33280 Aug 17 08:46 ..\n",
      "drwxrwxr-x 2 ubuntu ubuntu    33280 Aug 17 10:12 .ipynb_checkpoints\n",
      "drwxrwxr-x 6 ubuntu ubuntu    33280 Aug 17 10:13 c143\n",
      "-rw-r--r-- 1 ubuntu ubuntu    30090 Aug 17 10:38 c143.fasta\n",
      "-rw-rw-r-- 1 ubuntu ubuntu  8925239 Aug 17 10:38 c143.fasta_bk\n",
      "-rw-rw-r-- 1 ubuntu ubuntu      239 Aug 17 08:53 c143.list\n",
      "-rw-rw-r-- 1 ubuntu ubuntu      711 Aug 17 10:38 c143_WT.fasta\n",
      "-rw-rw-r-- 1 ubuntu ubuntu   175369 Aug 17 10:49 c143_by_iteration.png\n",
      "-rw-rw-r-- 1 ubuntu ubuntu  2353530 Aug 17 10:47 c143_esm2_t36_3B_UR50D.csv\n",
      "drwxrwxr-x 2 ubuntu ubuntu    41472 Aug 17 10:07 c143_esm2_t48_15B_UR50D\n",
      "drwxrwxr-x 7 ubuntu ubuntu    33280 Aug 15 02:52 kelsic\n",
      "-rw-rw-r-- 1 ubuntu ubuntu   109366 Aug 19 14:53 kelsic.fasta\n",
      "-rw-rw-r-- 1 ubuntu ubuntu       97 Aug 19 14:53 kelsic_WT.fasta\n",
      "-rw-rw-r-- 1 ubuntu ubuntu   157072 Aug 15 09:30 kelsic_by_iteration.png\n",
      "drwxrwxr-x 2 ubuntu ubuntu   287232 Aug 15 02:24 kelsic_esm1b_t33_650M_UR50S\n",
      "-rw-rw-r-- 1 ubuntu ubuntu 35884761 Aug 15 09:22 kelsic_esm1b_t33_650M_UR50S.csv\n",
      "-rw-r--r-- 1 ubuntu ubuntu      259 Aug 19 14:53 mutation_aa_processing-102.out\n"
     ]
    }
   ],
   "source": [
    "# !ls /shared/content/output\n",
    "# !mkdir -p /shared/content/output\n",
    "!ls -al /shared/content/output\n",
    "!rm -rf /shared/content/output/*.out"
   ]
  },
  {
   "cell_type": "markdown",
   "metadata": {},
   "source": [
    "## 2. Check HPC node queue info"
   ]
  },
  {
   "cell_type": "code",
   "execution_count": 51,
   "metadata": {},
   "outputs": [
    {
     "name": "stdout",
     "output_type": "stream",
     "text": [
      "-----------------------------\n",
      "dead        = false\n",
      "exact       = 0\n",
      "filtering   = false\n",
      "format      = partition:9 ,available:.5 ,time:.10 ,nodes:.6 ,statecompact:.6 ,nodelist:0\n",
      "iterate     = 0\n",
      "long        = false\n",
      "no_header   = false\n",
      "node_field  = false\n",
      "node_format = false\n",
      "nodes       = n/a\n",
      "part_field  = true\n",
      "partition   = n/a\n",
      "responding  = false\n",
      "states      = (null)\n",
      "sort        = (null)\n",
      "summarize   = false\n",
      "verbose     = 1\n",
      "-----------------------------\n",
      "all_flag        = false\n",
      "alloc_mem_flag  = false\n",
      "avail_flag      = true\n",
      "comment_flag    = false\n",
      "cpus_flag       = false\n",
      "default_time_flag =false\n",
      "disk_flag       = false\n",
      "extra_flag      = false\n",
      "features_flag   = false\n",
      "features_flag_act = false\n",
      "groups_flag     = false\n",
      "gres_flag       = false\n",
      "gres_used_flag  = false\n",
      "job_size_flag   = false\n",
      "max_time_flag   = true\n",
      "memory_flag     = false\n",
      "partition_flag  = true\n",
      "port_flag       = false\n",
      "priority_job_factor_flag   = false\n",
      "priority_tier_flag   = false\n",
      "reason_flag     = false\n",
      "reason_timestamp_flag = false\n",
      "reason_user_flag = false\n",
      "reservation_flag = false\n",
      "resv_name_flag   = false\n",
      "root_flag       = false\n",
      "oversubscribe_flag      = false\n",
      "state_flag      = true\n",
      "statecomplete_flag = false\n",
      "weight_flag     = false\n",
      "-----------------------------\n",
      "\n",
      "Thu Aug 21 02:56:29 2025\n",
      "sinfo: select/linear: init: Linear node selection plugin loaded with argument 1\n",
      "sinfo: select/cons_tres: init: select/cons_tres loaded\n",
      "PARTITION           AVAIL  TIMELIMIT  NODES  STATE NODELIST\n",
      "gpu-queue-high*        up   infinite      1   idle gpu-queue-high-st-gpu-nodes-p4d-1\n",
      "gpu-queue-infernece    up   infinite     10  idle~ gpu-queue-infernece-dy-gpu-nodes-g6e-[1-10]\n",
      "cpu-queue-high         up   infinite     50  idle~ cpu-queue-high-dy-highcpu-nodes-[1-50]\n",
      "cpu-queue-default      up   infinite     50  idle~ cpu-queue-default-dy-defaultcpu-nodes-[1-50]\n"
     ]
    }
   ],
   "source": [
    "### check node and queue\n",
    "!sinfo -v"
   ]
  },
  {
   "cell_type": "code",
   "execution_count": 52,
   "metadata": {},
   "outputs": [
    {
     "name": "stdout",
     "output_type": "stream",
     "text": [
      "Thu Aug 21 02:56:33 2025\n",
      "             JOBID PARTITION     NAME     USER    STATE       TIME TIME_LIMI  NODES NODELIST(REASON)\n"
     ]
    }
   ],
   "source": [
    "!squeue -al -u $USER"
   ]
  },
  {
   "cell_type": "code",
   "execution_count": 53,
   "metadata": {},
   "outputs": [
    {
     "name": "stdout",
     "output_type": "stream",
     "text": [
      "total 75\n",
      "-rwx--x--x 1 ubuntu ubuntu 705 Aug 17 07:00 01_process_job.sh\n",
      "-rwx--x--x 1 ubuntu ubuntu 975 Aug 15 09:21 02_job_plm.sh\n",
      "-rwx--x--x 1 ubuntu ubuntu 632 Aug 15 09:23 03_job_run_evolop_rounds.sh\n",
      "-rw-rw-r-- 1 ubuntu ubuntu 433 Aug 14 02:19 command_list.sh\n",
      "-rwxrwxr-x 1 ubuntu ubuntu 104 Aug 13 07:52 hellojob.sh\n",
      "-rwx--x--x 1 ubuntu ubuntu 571 Aug 14 02:02 template_sh\n",
      "/shared/scripts\n"
     ]
    }
   ],
   "source": [
    "## show my script\n",
    "!ls -l /shared/scripts\n",
    "%cd /shared/scripts"
   ]
  },
  {
   "cell_type": "markdown",
   "metadata": {
    "id": "MPYtN9W5o-UD"
   },
   "source": [
    "## 3. Process on HPC "
   ]
  },
  {
   "cell_type": "code",
   "execution_count": 55,
   "metadata": {},
   "outputs": [
    {
     "name": "stdout",
     "output_type": "stream",
     "text": [
      "#!/bin/bash\n",
      "# Configuration values for SLURM job submission.\n",
      "# One leading hash ahead of the word SBATCH is not a comment, but two are.\n",
      "#SBATCH --time=24:00:00 \n",
      "#SBATCH --job-name=mutation_processing\n",
      "#SBATCH -n 1 \n",
      "#SBATCH -N 1\n",
      "##SBATCH --gres=gpu:a100:1\n",
      "##SBATCH --partition=gpu-queue-high\n",
      "#SBATCH --partition=cpu-queue-default\n",
      "##SBATCH --constraint=cpu-nodes-c7i-2xl\n",
      "##SBATCH --mem=80gb\n",
      "#SBATCH --cpus-per-task=1  \n",
      "#SBATCH --output /shared/content/output/mutation_aa_processing-%j.out\n",
      "\n",
      "WORKING_DIR=\"/shared/EvolvePro\"\n",
      "\n",
      "cd $WORKING_DIR \n",
      "\n",
      "source ~/.bashrc\n",
      "\n",
      "conda activate evolvepro \n",
      "\n",
      "# Working Directory\n",
      "#python prepare_processing.py\n",
      "/home/ubuntu/anaconda3/envs/evolvepro/bin/python prepare_processing.py\n",
      "\n"
     ]
    }
   ],
   "source": [
    "## using HPC Queue of gpu-queue-high\n",
    "!cat 01_process_job.sh"
   ]
  },
  {
   "cell_type": "code",
   "execution_count": 73,
   "metadata": {},
   "outputs": [
    {
     "name": "stdout",
     "output_type": "stream",
     "text": [
      "Submitted batch job 107\n"
     ]
    }
   ],
   "source": [
    "!sbatch -N1 -n1 -p cpu-queue-high 01_process_job.sh "
   ]
  },
  {
   "cell_type": "code",
   "execution_count": 74,
   "metadata": {},
   "outputs": [
    {
     "name": "stdout",
     "output_type": "stream",
     "text": [
      "             JOBID PARTITION     NAME     USER ST       TIME  NODES NODELIST(REASON)\n",
      "               107 cpu-queue mutation   ubuntu  R       0:01      1 cpu-queue-high-dy-highcpu-nodes-1\n"
     ]
    }
   ],
   "source": [
    "!squeue -a\n",
    "!JOB_ID=$(squeue --noheader --format=\"%i\" --name=mutation_processing)\n",
    "\n"
   ]
  },
  {
   "cell_type": "code",
   "execution_count": 75,
   "metadata": {},
   "outputs": [
    {
     "name": "stdout",
     "output_type": "stream",
     "text": [
      "\n",
      "-rw-r--r-- 1 ubuntu ubuntu 259 Aug 21 03:07 /shared/content/output/mutation_aa_processing-104.out\n",
      "-rw-r--r-- 1 ubuntu ubuntu 259 Aug 21 03:14 /shared/content/output/mutation_aa_processing-107.out\n"
     ]
    }
   ],
   "source": [
    "!echo $JOB_ID\n",
    "!ls -al /shared/content/output/mutation_aa_processing-*.out"
   ]
  },
  {
   "cell_type": "code",
   "execution_count": 77,
   "metadata": {},
   "outputs": [
    {
     "name": "stdout",
     "output_type": "stream",
     "text": [
      "\n",
      "CondaError: Run 'conda init' before 'conda activate'\n",
      "\n",
      "Number of mutants: 1369\n",
      "Single amino acid mutants generated successfully.\n",
      "\n",
      "Suggested 12 mutants for testing:\n",
      "1. R23K\n",
      "2. T58E\n",
      "3. I36D\n",
      "4. V31C\n",
      "5. I7A\n",
      "6. K3F\n",
      "7. Q10P\n",
      "8. G38E\n",
      "9. E4M\n",
      "10. D61W\n",
      "11. E4Y\n",
      "12. R23N\n"
     ]
    }
   ],
   "source": [
    "### Change with the appropriate job id when check logs\n",
    "!tail -100 /shared/content/output/mutation_aa_processing-107.out"
   ]
  },
  {
   "cell_type": "markdown",
   "metadata": {
    "id": "eXNaQq1IpBBV"
   },
   "source": [
    "## 4. PLM - ParallelCluster Run\n"
   ]
  },
  {
   "cell_type": "code",
   "execution_count": 87,
   "metadata": {},
   "outputs": [
    {
     "name": "stdout",
     "output_type": "stream",
     "text": [
      "#!/bin/bash\n",
      "# Configuration values for SLURM job submission.\n",
      "# One leading hash ahead of the word SBATCH is not a comment, but two are.\n",
      "\n",
      "#SBATCH --time=24:00:00 \n",
      "##SBATCH -x node[110]\n",
      "#SBATCH --job-name=esm_plm\n",
      "#SBATCH -n 1\n",
      "#SBATCH -N 1   \n",
      "#SBATCH --partition=gpu-queue-high\n",
      "##SBATCH --gres=gpu:a100:8\n",
      "#SBATCH --cpus-per-task=1\n",
      "#SBATCH --constraint=gpu-nodes-p4d\n",
      "#SBATCH --mem=80gb  \n",
      "#SBATCH --output /shared/content/output/esm_plm-%j.out\n",
      "\n",
      "\n",
      "OUTPUT=${1:-\"/shared/content/output\"}\n",
      "WORKING_DIR=/shared/EvolvePro\n",
      "\n",
      "cd $WORKING_DIR\n",
      "\n",
      "source ~/.bashrc\n",
      "\n",
      "# conda init bash\n",
      "# conda activate plm\n",
      "\n",
      "# /home/ubuntu/anaconda3/envs/plm/bin/python evolvepro/plm/esm/extract.py esm1b_t33_650M_UR50S $OUTPUT/kelsic.fasta $OUTPUT/kelsic_esm1b_t33_650M_UR50S \\\n",
      "/home/ubuntu/anaconda3/envs/evolvepro/bin/python evolvepro/plm/esm/extract.py esm1b_t33_650M_UR50S $OUTPUT/kelsic.fasta $OUTPUT/kelsic_esm1b_t33_650M_UR50S \\\n",
      "    --toks_per_batch 512 \\\n",
      "    --include mean \\\n",
      "    --concatenate_dir $OUTPUT\n"
     ]
    }
   ],
   "source": [
    "!cat 02_job_plm.sh"
   ]
  },
  {
   "cell_type": "code",
   "execution_count": 88,
   "metadata": {},
   "outputs": [
    {
     "name": "stdout",
     "output_type": "stream",
     "text": [
      "Submitted batch job 67\n"
     ]
    }
   ],
   "source": [
    "!sbatch 02_job_plm.sh"
   ]
  },
  {
   "cell_type": "code",
   "execution_count": 89,
   "metadata": {},
   "outputs": [
    {
     "name": "stdout",
     "output_type": "stream",
     "text": [
      "             JOBID PARTITION     NAME     USER ST       TIME  NODES NODELIST(REASON)\n",
      "                67 gpu-queue  esm_plm   ubuntu  R       0:02      1 gpu-queue-high-st-gpu-nodes-p4d-1\n"
     ]
    }
   ],
   "source": [
    "!squeue"
   ]
  },
  {
   "cell_type": "code",
   "execution_count": 90,
   "metadata": {},
   "outputs": [
    {
     "name": "stdout",
     "output_type": "stream",
     "text": [
      "Device: cuda:0\n",
      "Processing 149 of 196 batches (7 sequences)\n",
      "Device: cuda:0\n",
      "Processing 150 of 196 batches (7 sequences)\n",
      "Device: cuda:0\n",
      "Processing 151 of 196 batches (7 sequences)\n",
      "Device: cuda:0\n",
      "Processing 152 of 196 batches (7 sequences)\n",
      "Device: cuda:0\n",
      "Processing 153 of 196 batches (7 sequences)\n",
      "Device: cuda:0\n",
      "Processing 154 of 196 batches (7 sequences)\n",
      "Device: cuda:0\n",
      "Processing 155 of 196 batches (7 sequences)\n",
      "Device: cuda:0\n",
      "Processing 156 of 196 batches (7 sequences)\n",
      "Device: cuda:0\n",
      "Processing 157 of 196 batches (7 sequences)\n",
      "Device: cuda:0\n",
      "Processing 158 of 196 batches (7 sequences)\n",
      "Device: cuda:0\n",
      "Processing 159 of 196 batches (7 sequences)\n",
      "Device: cuda:0\n",
      "Processing 160 of 196 batches (7 sequences)\n",
      "Device: cuda:0\n",
      "Processing 161 of 196 batches (7 sequences)\n",
      "Device: cuda:0\n",
      "Processing 162 of 196 batches (7 sequences)\n",
      "Device: cuda:0\n",
      "Processing 163 of 196 batches (7 sequences)\n",
      "Device: cuda:0\n",
      "Processing 164 of 196 batches (7 sequences)\n",
      "Device: cuda:0\n",
      "Processing 165 of 196 batches (7 sequences)\n",
      "Device: cuda:0\n",
      "Processing 166 of 196 batches (7 sequences)\n",
      "Device: cuda:0\n",
      "Processing 167 of 196 batches (7 sequences)\n",
      "Device: cuda:0\n",
      "Processing 168 of 196 batches (7 sequences)\n",
      "Device: cuda:0\n",
      "Processing 169 of 196 batches (7 sequences)\n",
      "Device: cuda:0\n",
      "Processing 170 of 196 batches (7 sequences)\n",
      "Device: cuda:0\n",
      "Processing 171 of 196 batches (7 sequences)\n",
      "Device: cuda:0\n",
      "Processing 172 of 196 batches (7 sequences)\n",
      "Device: cuda:0\n",
      "Processing 173 of 196 batches (7 sequences)\n",
      "Device: cuda:0\n",
      "Processing 174 of 196 batches (7 sequences)\n",
      "Device: cuda:0\n",
      "Processing 175 of 196 batches (7 sequences)\n",
      "Device: cuda:0\n",
      "Processing 176 of 196 batches (7 sequences)\n",
      "Device: cuda:0\n",
      "Processing 177 of 196 batches (7 sequences)\n",
      "Device: cuda:0\n",
      "Processing 178 of 196 batches (7 sequences)\n",
      "Device: cuda:0\n",
      "Processing 179 of 196 batches (7 sequences)\n",
      "Device: cuda:0\n",
      "Processing 180 of 196 batches (7 sequences)\n",
      "Device: cuda:0\n",
      "Processing 181 of 196 batches (7 sequences)\n",
      "Device: cuda:0\n",
      "Processing 182 of 196 batches (7 sequences)\n",
      "Device: cuda:0\n",
      "Processing 183 of 196 batches (7 sequences)\n",
      "Device: cuda:0\n",
      "Processing 184 of 196 batches (7 sequences)\n",
      "Device: cuda:0\n",
      "Processing 185 of 196 batches (7 sequences)\n",
      "Device: cuda:0\n",
      "Processing 186 of 196 batches (7 sequences)\n",
      "Device: cuda:0\n",
      "Processing 187 of 196 batches (7 sequences)\n",
      "Device: cuda:0\n",
      "Processing 188 of 196 batches (7 sequences)\n",
      "Device: cuda:0\n",
      "Processing 189 of 196 batches (7 sequences)\n",
      "Device: cuda:0\n",
      "Processing 190 of 196 batches (7 sequences)\n",
      "Device: cuda:0\n",
      "Processing 191 of 196 batches (7 sequences)\n",
      "Device: cuda:0\n",
      "Processing 192 of 196 batches (7 sequences)\n",
      "Device: cuda:0\n",
      "Processing 193 of 196 batches (7 sequences)\n",
      "Device: cuda:0\n",
      "Processing 194 of 196 batches (7 sequences)\n",
      "Device: cuda:0\n",
      "Processing 195 of 196 batches (7 sequences)\n",
      "Device: cuda:0\n",
      "Processing 196 of 196 batches (4 sequences)\n",
      "Device: cuda:0\n",
      "Saved representations to /shared/content/output/kelsic_esm1b_t33_650M_UR50S\n",
      "Shape of concatenated DataFrame: (1369, 1280)\n",
      "Saved concatenated representations to /shared/content/output/kelsic_esm1b_t33_650M_UR50S.csv\n"
     ]
    }
   ],
   "source": [
    "### Change with the appropriate job id when check logs\n",
    "!tail -100 /shared/content/output/esm_plm-{66}.out"
   ]
  },
  {
   "cell_type": "markdown",
   "metadata": {},
   "source": [
    "## 5. Run EVOLVEpro on HPC"
   ]
  },
  {
   "cell_type": "markdown",
   "metadata": {},
   "source": [
    "### Check the script contents and job parameters."
   ]
  },
  {
   "cell_type": "code",
   "execution_count": 112,
   "metadata": {},
   "outputs": [
    {
     "name": "stdout",
     "output_type": "stream",
     "text": [
      "#!/bin/bash\n",
      "# Configuration values for SLURM job submission.\n",
      "# One leading hash ahead of the word SBATCH is not a comment, but two are.\n",
      "#SBATCH --time=24:00:00 \n",
      "#SBATCH --job-name=run_evolve_rounds\n",
      "#SBATCH -n 1 \n",
      "#SBATCH -N 1\n",
      "##SBATCH --gres=gpu:a100:8\n",
      "#SBATCH --partition=gpu-queue-infernece\n",
      "## SBATCH --constraint=gpu-nodes-g6e\n",
      "#SBATCH --mem=80gb\n",
      "##SBATCH --cpus-per-task=1  \n",
      "#SBATCH --output /shared/content/output/run_evolve_rounds-%j.out\n",
      "\n",
      "WORKING_DIR=\"/shared/EvolvePro\"\n",
      "\n",
      "cd $WORKING_DIR \n",
      "\n",
      "source ~/.bashrc\n",
      "conda activate evolvepro \n",
      "\n",
      "# Working Directory\n",
      "/home/ubuntu/anaconda3/envs/evolvepro/bin/python run_evolvepro_rounds.py\n",
      "\n"
     ]
    }
   ],
   "source": [
    "! cat 03_job_run_evolop_rounds.sh"
   ]
  },
  {
   "cell_type": "markdown",
   "metadata": {},
   "source": [
    "### Boot up New G6e Instance for job processing. "
   ]
  },
  {
   "cell_type": "code",
   "execution_count": 113,
   "metadata": {},
   "outputs": [
    {
     "name": "stdout",
     "output_type": "stream",
     "text": [
      "Submitted batch job 70\n"
     ]
    }
   ],
   "source": [
    "## This job will be waiting for the EC2 instance g6e for process the job... needs around 5 mins at the first time, due to VM cold start.\n",
    "!sbatch -N1 -n1 03_job_run_evolop_rounds.sh"
   ]
  },
  {
   "cell_type": "code",
   "execution_count": 114,
   "metadata": {},
   "outputs": [
    {
     "name": "stdout",
     "output_type": "stream",
     "text": [
      "             JOBID PARTITION     NAME     USER ST       TIME  NODES NODELIST(REASON)\n",
      "                70 gpu-queue run_evol   ubuntu CF       0:01      1 gpu-queue-infernece-dy-gpu-nodes-g6e-1\n",
      "                69 gpu-queue run_evol   ubuntu CF       2:18      1 gpu-queue-infernece-dy-gpu-nodes-g6e-1\n",
      "                68 gpu-queue run_evol   ubuntu CF       3:30      1 gpu-queue-infernece-dy-gpu-nodes-g6e-1\n"
     ]
    }
   ],
   "source": [
    "### repeat the processes util job is running and finished..\n",
    "# PD means: pending\n",
    "# CF means: Configuring\n",
    "\n",
    "!squeue -a\n",
    "# !sinfo -N -l\n",
    "# !scontrol show job"
   ]
  },
  {
   "cell_type": "code",
   "execution_count": 115,
   "metadata": {},
   "outputs": [
    {
     "name": "stdout",
     "output_type": "stream",
     "text": [
      "tail: cannot open '/shared/content/output/run_evolve_rounds-70.out' for reading: No such file or directory\n"
     ]
    }
   ],
   "source": [
    "! tail -500 /shared/content/output/run_evolve_rounds-{70}.out"
   ]
  },
  {
   "cell_type": "markdown",
   "metadata": {
    "id": "g0YzCWOL1xdF"
   },
   "source": [
    "## 6. Plot"
   ]
  },
  {
   "cell_type": "code",
   "execution_count": 132,
   "metadata": {},
   "outputs": [
    {
     "name": "stdout",
     "output_type": "stream",
     "text": [
      "kelsic_Round1.xlsx  kelsic_Round3.xlsx\tkelsic_Round5.xlsx\n",
      "kelsic_Round2.xlsx  kelsic_Round4.xlsx\n"
     ]
    }
   ],
   "source": [
    "!ls /shared/content/EvolvePro/colab/rounds_data\n",
    "# !ls -l /shared/content/output/kelsi*"
   ]
  },
  {
   "cell_type": "code",
   "execution_count": 133,
   "metadata": {},
   "outputs": [
    {
     "name": "stdout",
     "output_type": "stream",
     "text": [
      "/shared/EvolvePro\n"
     ]
    }
   ],
   "source": [
    "%cd /shared/EvolvePro/"
   ]
  },
  {
   "cell_type": "code",
   "execution_count": 134,
   "metadata": {
    "id": "46D0aZra2ffS"
   },
   "outputs": [],
   "source": [
    "\n",
    "from evolvepro.src.plot import read_exp_data, plot_variants_by_iteration\n",
    "\n",
    "round_base_path = '/shared/content/EvolvePro/colab/rounds_data'\n",
    "round_file_names = ['kelsic_Round1.xlsx', 'kelsic_Round2.xlsx', 'kelsic_Round3.xlsx', 'kelsic_Round4.xlsx', 'kelsic_Round5.xlsx']\n",
    "wt_fasta_path = \"/shared/content/output/kelsic_WT.fasta\"\n",
    "output_dir = '/shared/content/output/'"
   ]
  },
  {
   "cell_type": "code",
   "execution_count": 135,
   "metadata": {
    "colab": {
     "base_uri": "https://localhost:8080/",
     "height": 607
    },
    "id": "KyYpI7pr2a1i",
    "outputId": "e66ff38a-0460-49f3-fb19-fa372c14b465"
   },
   "outputs": [
    {
     "data": {
      "image/png": "[encoded data removed]",
      "text/plain": [
       "<Figure size 1200x600 with 1 Axes>"
      ]
     },
     "metadata": {},
     "output_type": "display_data"
    }
   ],
   "source": [
    "df = read_exp_data(round_base_path, round_file_names, wt_fasta_path)\n",
    "plot_variants_by_iteration(df, activity_column='activity', output_dir=output_dir, output_file=\"kelsic\")\n"
   ]
  },
  {
   "cell_type": "code",
   "execution_count": null,
   "metadata": {},
   "outputs": [],
   "source": []
  }
 ],
 "metadata": {
  "accelerator": "GPU",
  "colab": {
   "gpuType": "T4",
   "provenance": []
  },
  "kernelspec": {
   "display_name": "evolvepro",
   "language": "python",
   "name": "evolvepro"
  },
  "language_info": {
   "codemirror_mode": {
    "name": "ipython",
    "version": 3
   },
   "file_extension": ".py",
   "mimetype": "text/x-python",
   "name": "python",
   "nbconvert_exporter": "python",
   "pygments_lexer": "ipython3",
   "version": "3.11.13"
  }
 },
 "nbformat": 4,
 "nbformat_minor": 4
}
