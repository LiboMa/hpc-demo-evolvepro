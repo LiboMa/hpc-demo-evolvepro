{
 "cells": [
  {
   "cell_type": "code",
   "execution_count": 1,
   "id": "7d925232-a48c-4352-a577-390667e14410",
   "metadata": {},
   "outputs": [],
   "source": [
    "!cd /shared"
   ]
  },
  {
   "cell_type": "code",
   "execution_count": null,
   "id": "a526b263-d0ba-4e45-b3f1-1e89dbb86ad8",
   "metadata": {},
   "outputs": [],
   "source": [
    "!bash -x evolvppro.sh"
   ]
  }
 ],
 "metadata": {
  "kernelspec": {
   "display_name": "Python 3 (ipykernel)",
   "language": "python",
   "name": "python3"
  },
  "language_info": {
   "codemirror_mode": {
    "name": "ipython",
    "version": 3
   },
   "file_extension": ".py",
   "mimetype": "text/x-python",
   "name": "python",
   "nbconvert_exporter": "python",
   "pygments_lexer": "ipython3",
   "version": "3.13.5"
  }
 },
 "nbformat": 4,
 "nbformat_minor": 5
}
